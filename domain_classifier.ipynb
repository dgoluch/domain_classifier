{
  "nbformat": 4,
  "nbformat_minor": 0,
  "metadata": {
    "colab": {
      "provenance": []
    },
    "kernelspec": {
      "name": "python3",
      "display_name": "Python 3"
    },
    "language_info": {
      "name": "python"
    }
  },
  "cells": [
    {
      "cell_type": "code",
      "source": [
        "from google.colab import drive\n",
        "drive.mount('/content/drive')"
      ],
      "metadata": {
        "colab": {
          "base_uri": "https://localhost:8080/"
        },
        "id": "jrb9Xwv7Ruqm",
        "outputId": "032e5619-1034-43cf-b652-b02cb56a37fb"
      },
      "execution_count": 1,
      "outputs": [
        {
          "output_type": "stream",
          "name": "stdout",
          "text": [
            "Drive already mounted at /content/drive; to attempt to forcibly remount, call drive.mount(\"/content/drive\", force_remount=True).\n"
          ]
        }
      ]
    },
    {
      "cell_type": "code",
      "execution_count": 2,
      "metadata": {
        "id": "i_i0tHHnRtSA"
      },
      "outputs": [],
      "source": [
        "import os\n",
        "import pandas\n",
        "import numpy as np\n",
        "import pandas as pd\n",
        "\n",
        "from sklearn.model_selection import train_test_split\n",
        "from sklearn.utils import resample\n",
        "from sklearn.linear_model import LogisticRegression\n",
        "from sklearn.tree import DecisionTreeClassifier\n",
        "from sklearn.ensemble import RandomForestClassifier\n",
        "from sklearn.neighbors import KNeighborsClassifier\n",
        "\n",
        "from sklearn.pipeline import Pipeline\n",
        "from sklearn.compose import ColumnTransformer\n",
        "from sklearn.preprocessing import StandardScaler, OneHotEncoder\n",
        "from sklearn import metrics\n",
        "from sklearn.metrics import accuracy_score, confusion_matrix, recall_score, precision_score, f1_score, auc, roc_auc_score\n",
        "import seaborn as sns\n",
        "\n",
        "from sklearn.model_selection import KFold, cross_val_score"
      ]
    },
    {
      "cell_type": "markdown",
      "source": [
        "Loading data"
      ],
      "metadata": {
        "id": "QFbI_fuIiOIE"
      }
    },
    {
      "cell_type": "code",
      "source": [
        "df_benign  = pd.read_csv(os.path.join('/content/drive/MyDrive/Data/CSV_benign.csv'), low_memory=False)\n",
        "df_malware = pd.read_csv(os.path.join('/content/drive/MyDrive/Data/CSV_malware.csv'), low_memory=False)"
      ],
      "metadata": {
        "id": "Ag6Twj6-RuuU"
      },
      "execution_count": 3,
      "outputs": []
    },
    {
      "cell_type": "code",
      "source": [
        "df_benign.info()"
      ],
      "metadata": {
        "colab": {
          "base_uri": "https://localhost:8080/"
        },
        "id": "zG7FGGZnRu1r",
        "outputId": "8fe67f61-f5d4-4d0b-ef69-845c674318da"
      },
      "execution_count": 4,
      "outputs": [
        {
          "output_type": "stream",
          "name": "stdout",
          "text": [
            "<class 'pandas.core.frame.DataFrame'>\n",
            "RangeIndex: 494135 entries, 0 to 494134\n",
            "Data columns (total 38 columns):\n",
            " #   Column              Non-Null Count   Dtype  \n",
            "---  ------              --------------   -----  \n",
            " 0   Country             385194 non-null  object \n",
            " 1   ASN                 385249 non-null  float64\n",
            " 2   TTL                 494135 non-null  int64  \n",
            " 3   IP                  386440 non-null  object \n",
            " 4   Domain              494135 non-null  object \n",
            " 5   State               217505 non-null  object \n",
            " 6   Registrant_Name     13637 non-null   object \n",
            " 7   Country.1           254093 non-null  object \n",
            " 8   Creation_Date_Time  362222 non-null  object \n",
            " 9   hex_32              494012 non-null  object \n",
            " 10  hex_8               494135 non-null  object \n",
            " 11  Domain_Name         397438 non-null  object \n",
            " 12  Alexa_Rank          440288 non-null  object \n",
            " 13  subdomain           494119 non-null  object \n",
            " 14  Organization        201746 non-null  object \n",
            " 15  len                 493777 non-null  object \n",
            " 16  longest_word        494002 non-null  object \n",
            " 17  oc_32               494132 non-null  object \n",
            " 18  shortened           492851 non-null  object \n",
            " 19  1gram               494113 non-null  object \n",
            " 20  obfuscate_at_sign   494135 non-null  object \n",
            " 21  entropy             494131 non-null  object \n",
            " 22  Domain_Age          440292 non-null  object \n",
            " 23  tld                 494132 non-null  object \n",
            " 24  dec_8               494125 non-null  object \n",
            " 25  dec_32              494041 non-null  object \n",
            " 26  Emails              323523 non-null  object \n",
            " 27  numeric_percentage  493346 non-null  object \n",
            " 28  puny_coded          494135 non-null  object \n",
            " 29  typos               494135 non-null  object \n",
            " 30  oc_8                494135 non-null  object \n",
            " 31  3gram               494135 non-null  object \n",
            " 32  char_distribution   494135 non-null  object \n",
            " 33  2gram               493948 non-null  object \n",
            " 34  Registrar           354202 non-null  object \n",
            " 35  sld                 492806 non-null  object \n",
            " 36  Name_Server_Count   440252 non-null  object \n",
            " 37  Page_Rank           439789 non-null  float64\n",
            "dtypes: float64(2), int64(1), object(35)\n",
            "memory usage: 143.3+ MB\n"
          ]
        }
      ]
    },
    {
      "cell_type": "code",
      "source": [
        "df_malware.info()"
      ],
      "metadata": {
        "colab": {
          "base_uri": "https://localhost:8080/"
        },
        "id": "GyEaDG9wSrNA",
        "outputId": "626da490-138a-4b63-8430-ed2fc68eb432"
      },
      "execution_count": 5,
      "outputs": [
        {
          "output_type": "stream",
          "name": "stdout",
          "text": [
            "<class 'pandas.core.frame.DataFrame'>\n",
            "RangeIndex: 4999 entries, 0 to 4998\n",
            "Data columns (total 38 columns):\n",
            " #   Column              Non-Null Count  Dtype  \n",
            "---  ------              --------------  -----  \n",
            " 0   Country             4053 non-null   object \n",
            " 1   ASN                 4055 non-null   float64\n",
            " 2   TTL                 4999 non-null   object \n",
            " 3   IP                  4098 non-null   object \n",
            " 4   Domain              4999 non-null   object \n",
            " 5   oc_8                4999 non-null   int64  \n",
            " 6   longest_word        4999 non-null   object \n",
            " 7   Domain_Name         3968 non-null   object \n",
            " 8   dec_32              4999 non-null   int64  \n",
            " 9   subdomain           4999 non-null   int64  \n",
            " 10  sld                 4999 non-null   object \n",
            " 11  Registrant_Name     73 non-null     object \n",
            " 12  hex_32              4999 non-null   int64  \n",
            " 13  Domain_Age          4428 non-null   object \n",
            " 14  entropy             4999 non-null   float64\n",
            " 15  Name_Server_Count   4428 non-null   float64\n",
            " 16  Emails              3377 non-null   object \n",
            " 17  Creation_Date_Time  3824 non-null   object \n",
            " 18  Organization        2283 non-null   object \n",
            " 19  char_distribution   4999 non-null   object \n",
            " 20  2gram               4999 non-null   object \n",
            " 21  State               2632 non-null   object \n",
            " 22  oc_32               4999 non-null   int64  \n",
            " 23  Country.1           2890 non-null   object \n",
            " 24  Page_Rank           4428 non-null   float64\n",
            " 25  hex_8               4999 non-null   int64  \n",
            " 26  dec_8               4999 non-null   int64  \n",
            " 27  1gram               4999 non-null   object \n",
            " 28  len                 4999 non-null   int64  \n",
            " 29  typos               4999 non-null   object \n",
            " 30  tld                 4999 non-null   object \n",
            " 31  shortened           4938 non-null   float64\n",
            " 32  Registrar           3693 non-null   object \n",
            " 33  obfuscate_at_sign   4999 non-null   int64  \n",
            " 34  Alexa_Rank          4428 non-null   float64\n",
            " 35  3gram               4999 non-null   object \n",
            " 36  numeric_percentage  4999 non-null   float64\n",
            " 37  puny_coded          4999 non-null   int64  \n",
            "dtypes: float64(7), int64(10), object(21)\n",
            "memory usage: 1.4+ MB\n"
          ]
        }
      ]
    },
    {
      "cell_type": "markdown",
      "source": [
        "Data cleaning and preprocessing, including removing duplicates, dropping an unnecessary column, and handling missing values."
      ],
      "metadata": {
        "id": "hekJNI9o9Z96"
      }
    },
    {
      "cell_type": "code",
      "source": [
        "df_malware = df_malware.drop_duplicates()\n",
        "df_benign = df_benign.drop_duplicates()\n",
        "\n",
        "df_malware = df_malware.drop(columns=['Registrant_Name'])\n",
        "df_benign = df_benign.drop(columns=['Registrant_Name'])\n",
        "\n",
        "df_malware.dropna(inplace=True)\n",
        "df_benign.dropna(inplace=True)"
      ],
      "metadata": {
        "id": "AQexnboP9ZIK"
      },
      "execution_count": 6,
      "outputs": []
    },
    {
      "cell_type": "code",
      "source": [
        "df_malware.shape"
      ],
      "metadata": {
        "colab": {
          "base_uri": "https://localhost:8080/"
        },
        "id": "s3n6WG8-B0yU",
        "outputId": "7f0fa854-909c-4915-a8c8-3b8ee1411049"
      },
      "execution_count": 7,
      "outputs": [
        {
          "output_type": "execute_result",
          "data": {
            "text/plain": [
              "(1546, 37)"
            ]
          },
          "metadata": {},
          "execution_count": 7
        }
      ]
    },
    {
      "cell_type": "code",
      "source": [
        "df_benign.shape"
      ],
      "metadata": {
        "colab": {
          "base_uri": "https://localhost:8080/"
        },
        "id": "kMXIRtbIB6Wz",
        "outputId": "ecafbfde-79e9-4d7f-eaaf-eaaee5ceb0e3"
      },
      "execution_count": 8,
      "outputs": [
        {
          "output_type": "execute_result",
          "data": {
            "text/plain": [
              "(131107, 37)"
            ]
          },
          "metadata": {},
          "execution_count": 8
        }
      ]
    },
    {
      "cell_type": "markdown",
      "source": [
        "Labeling the data: 1 for malware (df_malware) and 0 for benign (df_benign)."
      ],
      "metadata": {
        "id": "jLVAv8Mr9-cS"
      }
    },
    {
      "cell_type": "code",
      "source": [
        "df_malware[\"Label\"] = 1\n",
        "df_benign[\"Label\"] = 0"
      ],
      "metadata": {
        "id": "ySscg2xqSvca"
      },
      "execution_count": 9,
      "outputs": []
    },
    {
      "cell_type": "markdown",
      "source": [
        "Balancing data"
      ],
      "metadata": {
        "id": "Lfw8Ewdw_3Aj"
      }
    },
    {
      "cell_type": "code",
      "source": [
        "df_benign_resampled = resample(df_benign, replace=False, n_samples=2000, random_state=42)\n",
        "df_malware_resampled = resample(df_malware, replace=True, n_samples=2000, random_state=42)\n",
        "data = pd.concat([df_malware_resampled , df_benign_resampled])"
      ],
      "metadata": {
        "id": "x6ORyWxcToB-"
      },
      "execution_count": 10,
      "outputs": []
    },
    {
      "cell_type": "markdown",
      "source": [
        "Splitting data into training and testing sets"
      ],
      "metadata": {
        "id": "Xwoo7tlUALAx"
      }
    },
    {
      "cell_type": "code",
      "source": [
        "X = data.drop('Label', axis=1)\n",
        "y = data['Label'].values\n",
        "\n",
        "X_train, X_test, y_train, y_test = train_test_split(X, y, test_size=0.2, random_state=42)"
      ],
      "metadata": {
        "id": "V8c3emH_T89k"
      },
      "execution_count": 11,
      "outputs": []
    },
    {
      "cell_type": "markdown",
      "source": [
        "Separating and preprocessing numerical and categorical features, setting up transformers, and creating a data preprocessing pipeline"
      ],
      "metadata": {
        "id": "6-9urWnXAdL9"
      }
    },
    {
      "cell_type": "code",
      "source": [
        "cols_numerical = X_train.select_dtypes(include=['int64', 'float64']).columns\n",
        "cols_categorical = X_train.select_dtypes(include=['object']).columns\n",
        "\n",
        "X_train[cols_categorical] = X_train[cols_categorical].astype(str)\n",
        "X_test[cols_categorical] = X_test[cols_categorical].astype(str)\n",
        "\n",
        "transformer_numerical = Pipeline(steps = [\n",
        "    ('num_trans', StandardScaler())\n",
        "])\n",
        "\n",
        "transformer_categorical = Pipeline(steps = [\n",
        "    ('cat_trans', OneHotEncoder(handle_unknown='ignore'))\n",
        "])\n",
        "\n",
        "preprocessor = ColumnTransformer(transformers = [\n",
        "    ('numerical', transformer_numerical, cols_numerical),\n",
        "    ('categorical', transformer_categorical, cols_categorical)],\n",
        "    remainder='passthrough'\n",
        ")"
      ],
      "metadata": {
        "id": "TJ7A0167T9CG"
      },
      "execution_count": 12,
      "outputs": []
    },
    {
      "cell_type": "markdown",
      "source": [
        " Logistic regression model evaluation"
      ],
      "metadata": {
        "id": "VwKYobvAPnAv"
      }
    },
    {
      "cell_type": "code",
      "source": [
        "pipe_lr = Pipeline(steps = [\n",
        "    ('preprocessor', preprocessor),\n",
        "    ('classifier',  LogisticRegression(max_iter=500 ,random_state=42))\n",
        "    ])\n",
        "\n",
        "pipe_lr.fit(X_train, y_train)\n",
        "accuracy_lr = pipe_lr.score(X_test, y_test)\n",
        "\n",
        "y_pred_lr = (pipe_lr.predict(X_test))\n",
        "print('Accuracy:', accuracy_lr)\n",
        "print('ROC-AUC score', roc_auc_score(y_test, y_pred_lr))\n",
        "print('Precision:', precision_score(y_test, y_pred_lr))\n",
        "print('Recall:', recall_score(y_test, y_pred_lr))\n",
        "print('F1_score:', f1_score(y_test, y_pred_lr))\n",
        "sns.heatmap(confusion_matrix(y_test, y_pred_lr), annot=True, fmt = 'd', xticklabels=['benign', 'malware'], yticklabels=['benign', 'malware'], cbar=False)"
      ],
      "metadata": {
        "colab": {
          "base_uri": "https://localhost:8080/",
          "height": 537
        },
        "id": "1RvsnJ_dJ3gK",
        "outputId": "351c5cdf-53cf-4a11-8e3c-2b8d5f1bffa4"
      },
      "execution_count": 13,
      "outputs": [
        {
          "output_type": "stream",
          "name": "stdout",
          "text": [
            "Accuracy: 0.9175\n",
            "ROC-AUC score 0.9149050878908699\n",
            "Precision: 0.8903508771929824\n",
            "Recall: 0.9620853080568721\n",
            "F1_score: 0.9248291571753987\n"
          ]
        },
        {
          "output_type": "execute_result",
          "data": {
            "text/plain": [
              "<Axes: >"
            ]
          },
          "metadata": {},
          "execution_count": 13
        },
        {
          "output_type": "display_data",
          "data": {
            "text/plain": [
              "<Figure size 640x480 with 1 Axes>"
            ],
            "image/png": "[encoded data removed]"
          },
          "metadata": {}
        }
      ]
    },
    {
      "cell_type": "markdown",
      "source": [
        "Decision tree model evaluation"
      ],
      "metadata": {
        "id": "QhP1jODLRwMO"
      }
    },
    {
      "cell_type": "code",
      "source": [
        "pipe_dt = Pipeline(steps = [\n",
        "                ('preprocessor', preprocessor),\n",
        "               ('classifier',  DecisionTreeClassifier())\n",
        "            ])\n",
        "pipe_dt.fit(X_train, y_train)\n",
        "accuracy_dt = pipe_dt.score(X_test, y_test)\n",
        "\n",
        "y_pred_dt = (pipe_dt.predict(X_test))\n",
        "print('Accuracy:', accuracy_dt)\n",
        "print('ROC-AUC score', roc_auc_score(y_test, y_pred_dt))\n",
        "print('Precision:', precision_score(y_test, y_pred_dt))\n",
        "print('Recall:', recall_score(y_test, y_pred_dt))\n",
        "print('F1_score:', f1_score(y_test, y_pred_dt))\n",
        "sns.heatmap(confusion_matrix(y_test, y_pred_dt), annot=True, fmt = 'd', xticklabels=['benign', 'malware'], yticklabels=['benign', 'malware'], cbar=False)"
      ],
      "metadata": {
        "colab": {
          "base_uri": "https://localhost:8080/",
          "height": 537
        },
        "id": "ap2D2GBhS9qW",
        "outputId": "d5577973-57a0-47cc-9abc-fe04eef8a38c"
      },
      "execution_count": 14,
      "outputs": [
        {
          "output_type": "stream",
          "name": "stdout",
          "text": [
            "Accuracy: 0.91625\n",
            "ROC-AUC score 0.9148235913638756\n",
            "Precision: 0.9043280182232346\n",
            "Recall: 0.9407582938388626\n",
            "F1_score: 0.9221835075493612\n"
          ]
        },
        {
          "output_type": "execute_result",
          "data": {
            "text/plain": [
              "<Axes: >"
            ]
          },
          "metadata": {},
          "execution_count": 14
        },
        {
          "output_type": "display_data",
          "data": {
            "text/plain": [
              "<Figure size 640x480 with 1 Axes>"
            ],
            "image/png": "[encoded data removed]"
          },
          "metadata": {}
        }
      ]
    },
    {
      "cell_type": "markdown",
      "source": [
        "Random forest model evaluation"
      ],
      "metadata": {
        "id": "lzaFiEJUS22N"
      }
    },
    {
      "cell_type": "code",
      "source": [
        "pipe_rf = Pipeline(steps = [\n",
        "                ('preprocessor', preprocessor),\n",
        "               ('classifier', RandomForestClassifier(n_jobs=-1))\n",
        "            ])\n",
        "pipe_rf.fit(X_train, y_train)\n",
        "accuracy_rf = pipe_rf.score(X_test, y_test)\n",
        "\n",
        "y_pred_rf = (pipe_rf.predict(X_test))\n",
        "print('Accuracy',accuracy_rf)\n",
        "print('ROC-AUC score', roc_auc_score(y_test, y_pred_rf))\n",
        "print('Precision:', precision_score(y_test, y_pred_rf))\n",
        "print('Recall:', recall_score(y_test, y_pred_rf))\n",
        "print('F1_score:', f1_score(y_test, y_pred_rf))\n",
        "sns.heatmap(confusion_matrix(y_test, y_pred_rf), annot=True, fmt = 'd', xticklabels=['benign', 'malware'], yticklabels=['benign', 'malware'], cbar=False)"
      ],
      "metadata": {
        "colab": {
          "base_uri": "https://localhost:8080/",
          "height": 537
        },
        "id": "DMwM7xKXS9uA",
        "outputId": "19a7d0fc-d204-4575-919c-5b9c392f5307"
      },
      "execution_count": 15,
      "outputs": [
        {
          "output_type": "stream",
          "name": "stdout",
          "text": [
            "Accuracy 0.91\n",
            "ROC-AUC score 0.9083477519496479\n",
            "Precision: 0.8959276018099548\n",
            "Recall: 0.9383886255924171\n",
            "F1_score: 0.9166666666666667\n"
          ]
        },
        {
          "output_type": "execute_result",
          "data": {
            "text/plain": [
              "<Axes: >"
            ]
          },
          "metadata": {},
          "execution_count": 15
        },
        {
          "output_type": "display_data",
          "data": {
            "text/plain": [
              "<Figure size 640x480 with 1 Axes>"
            ],
            "image/png": "[encoded data removed]"
          },
          "metadata": {}
        }
      ]
    },
    {
      "cell_type": "markdown",
      "source": [
        "K-nearest neighbors (KNN) model evaluation with 3 neighbors\n",
        "\n",
        "---\n",
        "\n"
      ],
      "metadata": {
        "id": "lgUFoEduN4ca"
      }
    },
    {
      "cell_type": "code",
      "source": [
        "pipe_knn = Pipeline(steps = [\n",
        "                ('preprocessor', preprocessor),\n",
        "               ('classifier', KNeighborsClassifier(3))\n",
        "            ])\n",
        "pipe_knn.fit(X_train, y_train)\n",
        "accuracy_knn = pipe_knn.score(X_test, y_test)\n",
        "\n",
        "y_pred_knn = (pipe_knn.predict(X_test))\n",
        "print('Accuracy:',accuracy_knn)\n",
        "print('ROC-AUC score', roc_auc_score(y_test, y_pred_knn))\n",
        "print('Precision:', precision_score(y_test, y_pred_knn))\n",
        "print('Recall:', recall_score(y_test, y_pred_knn))\n",
        "print('F1_score:', f1_score(y_test, y_pred_knn))\n",
        "sns.heatmap(confusion_matrix(y_test, y_pred_knn), annot=True, fmt = 'd', xticklabels=['benign', 'malware'], yticklabels=['benign', 'malware'], cbar=False)"
      ],
      "metadata": {
        "colab": {
          "base_uri": "https://localhost:8080/",
          "height": 537
        },
        "id": "3KenH5jBch0V",
        "outputId": "d0f40a71-eef3-42eb-ff95-1a2f34febc5f"
      },
      "execution_count": 16,
      "outputs": [
        {
          "output_type": "stream",
          "name": "stdout",
          "text": [
            "Accuracy: 0.825\n",
            "ROC-AUC score 0.8181248276035005\n",
            "Precision: 0.77431906614786\n",
            "Recall: 0.943127962085308\n",
            "F1_score: 0.8504273504273504\n"
          ]
        },
        {
          "output_type": "execute_result",
          "data": {
            "text/plain": [
              "<Axes: >"
            ]
          },
          "metadata": {},
          "execution_count": 16
        },
        {
          "output_type": "display_data",
          "data": {
            "text/plain": [
              "<Figure size 640x480 with 1 Axes>"
            ],
            "image/png": "[encoded data removed]"
          },
          "metadata": {}
        }
      ]
    },
    {
      "cell_type": "markdown",
      "source": [
        "Cross-validation of the K-nearest neighbors (KNN) model"
      ],
      "metadata": {
        "id": "dj8scXINfkGE"
      }
    },
    {
      "cell_type": "code",
      "source": [
        "cv = KFold(n_splits=10, shuffle=True, random_state=42)\n",
        "X[cols_categorical] = X[cols_categorical].astype(str)\n",
        "\n",
        "scores = cross_val_score(pipe_knn, X, y, cv=cv, scoring='accuracy')\n",
        "print('Cross-validation results:', scores)\n",
        "print('Mean accuracy:', scores.mean())"
      ],
      "metadata": {
        "colab": {
          "base_uri": "https://localhost:8080/"
        },
        "id": "BcyEH5l5FMZd",
        "outputId": "11de389b-5abe-49fb-f3f6-09b9dcf22bdf"
      },
      "execution_count": 17,
      "outputs": [
        {
          "output_type": "stream",
          "name": "stdout",
          "text": [
            "Cross-validation results: [0.8475 0.805  0.84   0.84   0.84   0.8475 0.83   0.8275 0.805  0.8175]\n",
            "Mean accuracy: 0.8300000000000001\n"
          ]
        }
      ]
    },
    {
      "cell_type": "markdown",
      "source": [
        "Summary of model evaluation metrics"
      ],
      "metadata": {
        "id": "20J8CGqUFW8G"
      }
    },
    {
      "cell_type": "code",
      "source": [
        "results= {\n",
        "    'Model': ['LogisticRegression', 'DecisionTreeClassifier', 'RandomForestClassifier', 'KNeighborsClassifier'],\n",
        "    'Accuracy': [accuracy_lr, accuracy_dt, accuracy_rf, accuracy_knn],\n",
        "    'ROC-AUC score': [roc_auc_score(y_test, y_pred_lr), roc_auc_score(y_test, y_pred_dt), roc_auc_score(y_test, y_pred_rf), roc_auc_score(y_test, y_pred_knn)],\n",
        "    'Precision': [precision_score(y_test, y_pred_lr), precision_score(y_test, y_pred_dt), precision_score(y_test, y_pred_rf), precision_score(y_test, y_pred_knn)],\n",
        "    'Recall': [recall_score(y_test, y_pred_lr), recall_score(y_test, y_pred_dt), recall_score(y_test, y_pred_rf), recall_score(y_test, y_pred_knn)],\n",
        "    'F1_score': [f1_score(y_test, y_pred_lr), f1_score(y_test, y_pred_dt), f1_score(y_test, y_pred_rf), f1_score(y_test, y_pred_knn)]\n",
        "}\n",
        "\n",
        "df = pd.DataFrame(results)\n",
        "df"
      ],
      "metadata": {
        "colab": {
          "base_uri": "https://localhost:8080/",
          "height": 175
        },
        "id": "XLGnUCG33oD4",
        "outputId": "fffc6a8f-8885-4e42-d486-0d2f45afc2cc"
      },
      "execution_count": 18,
      "outputs": [
        {
          "output_type": "execute_result",
          "data": {
            "text/plain": [
              "                    Model  Accuracy  ROC-AUC score  Precision    Recall  \\\n",
              "0      LogisticRegression   0.91750       0.914905   0.890351  0.962085   \n",
              "1  DecisionTreeClassifier   0.91625       0.914824   0.904328  0.940758   \n",
              "2  RandomForestClassifier   0.91000       0.908348   0.895928  0.938389   \n",
              "3    KNeighborsClassifier   0.82500       0.818125   0.774319  0.943128   \n",
              "\n",
              "   F1_score  \n",
              "0  0.924829  \n",
              "1  0.922184  \n",
              "2  0.916667  \n",
              "3  0.850427  "
            ],
            "text/html": [
              "\n",
              "  <div id=\"df-fb7f3d83-6940-4ae9-8595-7618b8b73c03\" class=\"colab-df-container\">\n",
              "    <div>\n",
              "<style scoped>\n",
              "    .dataframe tbody tr th:only-of-type {\n",
              "        vertical-align: middle;\n",
              "    }\n",
              "\n",
              "    .dataframe tbody tr th {\n",
              "        vertical-align: top;\n",
              "    }\n",
              "\n",
              "    .dataframe thead th {\n",
              "        text-align: right;\n",
              "    }\n",
              "</style>\n",
              "<table border=\"1\" class=\"dataframe\">\n",
              "  <thead>\n",
              "    <tr style=\"text-align: right;\">\n",
              "      <th></th>\n",
              "      <th>Model</th>\n",
              "      <th>Accuracy</th>\n",
              "      <th>ROC-AUC score</th>\n",
              "      <th>Precision</th>\n",
              "      <th>Recall</th>\n",
              "      <th>F1_score</th>\n",
              "    </tr>\n",
              "  </thead>\n",
              "  <tbody>\n",
              "    <tr>\n",
              "      <th>0</th>\n",
              "      <td>LogisticRegression</td>\n",
              "      <td>0.91750</td>\n",
              "      <td>0.914905</td>\n",
              "      <td>0.890351</td>\n",
              "      <td>0.962085</td>\n",
              "      <td>0.924829</td>\n",
              "    </tr>\n",
              "    <tr>\n",
              "      <th>1</th>\n",
              "      <td>DecisionTreeClassifier</td>\n",
              "      <td>0.91625</td>\n",
              "      <td>0.914824</td>\n",
              "      <td>0.904328</td>\n",
              "      <td>0.940758</td>\n",
              "      <td>0.922184</td>\n",
              "    </tr>\n",
              "    <tr>\n",
              "      <th>2</th>\n",
              "      <td>RandomForestClassifier</td>\n",
              "      <td>0.91000</td>\n",
              "      <td>0.908348</td>\n",
              "      <td>0.895928</td>\n",
              "      <td>0.938389</td>\n",
              "      <td>0.916667</td>\n",
              "    </tr>\n",
              "    <tr>\n",
              "      <th>3</th>\n",
              "      <td>KNeighborsClassifier</td>\n",
              "      <td>0.82500</td>\n",
              "      <td>0.818125</td>\n",
              "      <td>0.774319</td>\n",
              "      <td>0.943128</td>\n",
              "      <td>0.850427</td>\n",
              "    </tr>\n",
              "  </tbody>\n",
              "</table>\n",
              "</div>\n",
              "    <div class=\"colab-df-buttons\">\n",
              "\n",
              "  <div class=\"colab-df-container\">\n",
              "    <button class=\"colab-df-convert\" onclick=\"convertToInteractive('df-fb7f3d83-6940-4ae9-8595-7618b8b73c03')\"\n",
              "            title=\"Convert this dataframe to an interactive table.\"\n",
              "            style=\"display:none;\">\n",
              "\n",
              "  <svg xmlns=\"http://www.w3.org/2000/svg\" height=\"24px\" viewBox=\"0 -960 960 960\">\n",
              "    <path d=\"M120-120v-720h720v720H120Zm60-500h600v-160H180v160Zm220 220h160v-160H400v160Zm0 220h160v-160H400v160ZM180-400h160v-160H180v160Zm440 0h160v-160H620v160ZM180-180h160v-160H180v160Zm440 0h160v-160H620v160Z\"/>\n",
              "  </svg>\n",
              "    </button>\n",
              "\n",
              "  <style>\n",
              "    .colab-df-container {\n",
              "      display:flex;\n",
              "      gap: 12px;\n",
              "    }\n",
              "\n",
              "    .colab-df-convert {\n",
              "      background-color: #E8F0FE;\n",
              "      border: none;\n",
              "      border-radius: 50%;\n",
              "      cursor: pointer;\n",
              "      display: none;\n",
              "      fill: #1967D2;\n",
              "      height: 32px;\n",
              "      padding: 0 0 0 0;\n",
              "      width: 32px;\n",
              "    }\n",
              "\n",
              "    .colab-df-convert:hover {\n",
              "      background-color: #E2EBFA;\n",
              "      box-shadow: 0px 1px 2px rgba(60, 64, 67, 0.3), 0px 1px 3px 1px rgba(60, 64, 67, 0.15);\n",
              "      fill: #174EA6;\n",
              "    }\n",
              "\n",
              "    .colab-df-buttons div {\n",
              "      margin-bottom: 4px;\n",
              "    }\n",
              "\n",
              "    [theme=dark] .colab-df-convert {\n",
              "      background-color: #3B4455;\n",
              "      fill: #D2E3FC;\n",
              "    }\n",
              "\n",
              "    [theme=dark] .colab-df-convert:hover {\n",
              "      background-color: #434B5C;\n",
              "      box-shadow: 0px 1px 3px 1px rgba(0, 0, 0, 0.15);\n",
              "      filter: drop-shadow(0px 1px 2px rgba(0, 0, 0, 0.3));\n",
              "      fill: #FFFFFF;\n",
              "    }\n",
              "  </style>\n",
              "\n",
              "    <script>\n",
              "      const buttonEl =\n",
              "        document.querySelector('#df-fb7f3d83-6940-4ae9-8595-7618b8b73c03 button.colab-df-convert');\n",
              "      buttonEl.style.display =\n",
              "        google.colab.kernel.accessAllowed ? 'block' : 'none';\n",
              "\n",
              "      async function convertToInteractive(key) {\n",
              "        const element = document.querySelector('#df-fb7f3d83-6940-4ae9-8595-7618b8b73c03');\n",
              "        const dataTable =\n",
              "          await google.colab.kernel.invokeFunction('convertToInteractive',\n",
              "                                                    [key], {});\n",
              "        if (!dataTable) return;\n",
              "\n",
              "        const docLinkHtml = 'Like what you see? Visit the ' +\n",
              "          '<a target=\"_blank\" href=https://colab.research.google.com/notebooks/data_table.ipynb>data table notebook</a>'\n",
              "          + ' to learn more about interactive tables.';\n",
              "        element.innerHTML = '';\n",
              "        dataTable['output_type'] = 'display_data';\n",
              "        await google.colab.output.renderOutput(dataTable, element);\n",
              "        const docLink = document.createElement('div');\n",
              "        docLink.innerHTML = docLinkHtml;\n",
              "        element.appendChild(docLink);\n",
              "      }\n",
              "    </script>\n",
              "  </div>\n",
              "\n",
              "\n",
              "<div id=\"df-4044d909-6527-4750-81c3-7c0b9b6d0559\">\n",
              "  <button class=\"colab-df-quickchart\" onclick=\"quickchart('df-4044d909-6527-4750-81c3-7c0b9b6d0559')\"\n",
              "            title=\"Suggest charts.\"\n",
              "            style=\"display:none;\">\n",
              "\n",
              "<svg xmlns=\"http://www.w3.org/2000/svg\" height=\"24px\"viewBox=\"0 0 24 24\"\n",
              "     width=\"24px\">\n",
              "    <g>\n",
              "        <path d=\"M19 3H5c-1.1 0-2 .9-2 2v14c0 1.1.9 2 2 2h14c1.1 0 2-.9 2-2V5c0-1.1-.9-2-2-2zM9 17H7v-7h2v7zm4 0h-2V7h2v10zm4 0h-2v-4h2v4z\"/>\n",
              "    </g>\n",
              "</svg>\n",
              "  </button>\n",
              "\n",
              "<style>\n",
              "  .colab-df-quickchart {\n",
              "      --bg-color: #E8F0FE;\n",
              "      --fill-color: #1967D2;\n",
              "      --hover-bg-color: #E2EBFA;\n",
              "      --hover-fill-color: #174EA6;\n",
              "      --disabled-fill-color: #AAA;\n",
              "      --disabled-bg-color: #DDD;\n",
              "  }\n",
              "\n",
              "  [theme=dark] .colab-df-quickchart {\n",
              "      --bg-color: #3B4455;\n",
              "      --fill-color: #D2E3FC;\n",
              "      --hover-bg-color: #434B5C;\n",
              "      --hover-fill-color: #FFFFFF;\n",
              "      --disabled-bg-color: #3B4455;\n",
              "      --disabled-fill-color: #666;\n",
              "  }\n",
              "\n",
              "  .colab-df-quickchart {\n",
              "    background-color: var(--bg-color);\n",
              "    border: none;\n",
              "    border-radius: 50%;\n",
              "    cursor: pointer;\n",
              "    display: none;\n",
              "    fill: var(--fill-color);\n",
              "    height: 32px;\n",
              "    padding: 0;\n",
              "    width: 32px;\n",
              "  }\n",
              "\n",
              "  .colab-df-quickchart:hover {\n",
              "    background-color: var(--hover-bg-color);\n",
              "    box-shadow: 0 1px 2px rgba(60, 64, 67, 0.3), 0 1px 3px 1px rgba(60, 64, 67, 0.15);\n",
              "    fill: var(--button-hover-fill-color);\n",
              "  }\n",
              "\n",
              "  .colab-df-quickchart-complete:disabled,\n",
              "  .colab-df-quickchart-complete:disabled:hover {\n",
              "    background-color: var(--disabled-bg-color);\n",
              "    fill: var(--disabled-fill-color);\n",
              "    box-shadow: none;\n",
              "  }\n",
              "\n",
              "  .colab-df-spinner {\n",
              "    border: 2px solid var(--fill-color);\n",
              "    border-color: transparent;\n",
              "    border-bottom-color: var(--fill-color);\n",
              "    animation:\n",
              "      spin 1s steps(1) infinite;\n",
              "  }\n",
              "\n",
              "  @keyframes spin {\n",
              "    0% {\n",
              "      border-color: transparent;\n",
              "      border-bottom-color: var(--fill-color);\n",
              "      border-left-color: var(--fill-color);\n",
              "    }\n",
              "    20% {\n",
              "      border-color: transparent;\n",
              "      border-left-color: var(--fill-color);\n",
              "      border-top-color: var(--fill-color);\n",
              "    }\n",
              "    30% {\n",
              "      border-color: transparent;\n",
              "      border-left-color: var(--fill-color);\n",
              "      border-top-color: var(--fill-color);\n",
              "      border-right-color: var(--fill-color);\n",
              "    }\n",
              "    40% {\n",
              "      border-color: transparent;\n",
              "      border-right-color: var(--fill-color);\n",
              "      border-top-color: var(--fill-color);\n",
              "    }\n",
              "    60% {\n",
              "      border-color: transparent;\n",
              "      border-right-color: var(--fill-color);\n",
              "    }\n",
              "    80% {\n",
              "      border-color: transparent;\n",
              "      border-right-color: var(--fill-color);\n",
              "      border-bottom-color: var(--fill-color);\n",
              "    }\n",
              "    90% {\n",
              "      border-color: transparent;\n",
              "      border-bottom-color: var(--fill-color);\n",
              "    }\n",
              "  }\n",
              "</style>\n",
              "\n",
              "  <script>\n",
              "    async function quickchart(key) {\n",
              "      const quickchartButtonEl =\n",
              "        document.querySelector('#' + key + ' button');\n",
              "      quickchartButtonEl.disabled = true;  // To prevent multiple clicks.\n",
              "      quickchartButtonEl.classList.add('colab-df-spinner');\n",
              "      try {\n",
              "        const charts = await google.colab.kernel.invokeFunction(\n",
              "            'suggestCharts', [key], {});\n",
              "      } catch (error) {\n",
              "        console.error('Error during call to suggestCharts:', error);\n",
              "      }\n",
              "      quickchartButtonEl.classList.remove('colab-df-spinner');\n",
              "      quickchartButtonEl.classList.add('colab-df-quickchart-complete');\n",
              "    }\n",
              "    (() => {\n",
              "      let quickchartButtonEl =\n",
              "        document.querySelector('#df-4044d909-6527-4750-81c3-7c0b9b6d0559 button');\n",
              "      quickchartButtonEl.style.display =\n",
              "        google.colab.kernel.accessAllowed ? 'block' : 'none';\n",
              "    })();\n",
              "  </script>\n",
              "</div>\n",
              "    </div>\n",
              "  </div>\n"
            ]
          },
          "metadata": {},
          "execution_count": 18
        }
      ]
    },
    {
      "cell_type": "markdown",
      "source": [
        "Logistic Regression achieved the highest accuracy and F1-score. The Decision Tree Classifier and the Random Forest Classifier also achieved good results but are slightly less effective than logistic regression. The K-Nearest Neighbors Classifier exhibits significantly lower accuracy and F1-score compared to the other models. Logistic Regression is the model that performs best in domain classification."
      ],
      "metadata": {
        "id": "QHAegqI9Kud0"
      }
    }
  ]
}