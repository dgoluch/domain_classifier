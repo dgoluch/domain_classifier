{
  "nbformat": 4,
  "nbformat_minor": 0,
  "metadata": {
    "colab": {
      "provenance": []
    },
    "kernelspec": {
      "name": "python3",
      "display_name": "Python 3"
    },
    "language_info": {
      "name": "python"
    }
  },
  "cells": [
    {
      "cell_type": "code",
      "execution_count": null,
      "metadata": {
        "id": "i_i0tHHnRtSA"
      },
      "outputs": [],
      "source": [
        "import os\n",
        "import pandas\n",
        "import numpy as np\n",
        "import pandas as pd\n",
        "\n",
        "from sklearn.model_selection import train_test_split\n",
        "from sklearn.utils import resample\n",
        "from sklearn.linear_model import LogisticRegression\n",
        "from sklearn.tree import DecisionTreeClassifier\n",
        "from sklearn.ensemble import RandomForestClassifier\n",
        "\n",
        "from sklearn.pipeline import Pipeline\n",
        "from sklearn.compose import ColumnTransformer\n",
        "from sklearn.preprocessing import StandardScaler, OneHotEncoder\n",
        "from sklearn import metrics\n",
        "from sklearn.metrics import accuracy_score, confusion_matrix, recall_score, precision_score, f1_score, auc, roc_auc_score\n",
        "import seaborn as sns\n",
        "\n",
        "from sklearn.model_selection import KFold, cross_val_score"
      ]
    },
    {
      "cell_type": "code",
      "source": [
        "from google.colab import drive\n",
        "drive.mount('/content/drive')"
      ],
      "metadata": {
        "colab": {
          "base_uri": "https://localhost:8080/"
        },
        "id": "jrb9Xwv7Ruqm",
        "outputId": "4b75da75-4617-4080-eb06-d7ec56be75c1"
      },
      "execution_count": null,
      "outputs": [
        {
          "output_type": "stream",
          "name": "stdout",
          "text": [
            "Drive already mounted at /content/drive; to attempt to forcibly remount, call drive.mount(\"/content/drive\", force_remount=True).\n"
          ]
        }
      ]
    },
    {
      "cell_type": "markdown",
      "source": [
        "Wczytanie danych"
      ],
      "metadata": {
        "id": "QFbI_fuIiOIE"
      }
    },
    {
      "cell_type": "code",
      "source": [
        "df_benign  = pd.read_csv(os.path.join('/content/drive/MyDrive/Data/CSV_benign.csv'), low_memory=False)\n",
        "df_malware = pd.read_csv(os.path.join('/content/drive/MyDrive/Data/CSV_malware.csv'), low_memory=False)"
      ],
      "metadata": {
        "id": "Ag6Twj6-RuuU"
      },
      "execution_count": null,
      "outputs": []
    },
    {
      "cell_type": "code",
      "source": [
        "df_benign.info()"
      ],
      "metadata": {
        "colab": {
          "base_uri": "https://localhost:8080/"
        },
        "id": "zG7FGGZnRu1r",
        "outputId": "6909edc9-bb98-4b73-9c6c-3afd90fe6842"
      },
      "execution_count": null,
      "outputs": [
        {
          "output_type": "stream",
          "name": "stdout",
          "text": [
            "<class 'pandas.core.frame.DataFrame'>\n",
            "RangeIndex: 494135 entries, 0 to 494134\n",
            "Data columns (total 38 columns):\n",
            " #   Column              Non-Null Count   Dtype  \n",
            "---  ------              --------------   -----  \n",
            " 0   Country             385194 non-null  object \n",
            " 1   ASN                 385249 non-null  float64\n",
            " 2   TTL                 494135 non-null  int64  \n",
            " 3   IP                  386440 non-null  object \n",
            " 4   Domain              494135 non-null  object \n",
            " 5   State               217505 non-null  object \n",
            " 6   Registrant_Name     13637 non-null   object \n",
            " 7   Country.1           254093 non-null  object \n",
            " 8   Creation_Date_Time  362222 non-null  object \n",
            " 9   hex_32              494012 non-null  object \n",
            " 10  hex_8               494135 non-null  object \n",
            " 11  Domain_Name         397438 non-null  object \n",
            " 12  Alexa_Rank          440288 non-null  object \n",
            " 13  subdomain           494119 non-null  object \n",
            " 14  Organization        201746 non-null  object \n",
            " 15  len                 493777 non-null  object \n",
            " 16  longest_word        494002 non-null  object \n",
            " 17  oc_32               494132 non-null  object \n",
            " 18  shortened           492851 non-null  object \n",
            " 19  1gram               494113 non-null  object \n",
            " 20  obfuscate_at_sign   494135 non-null  object \n",
            " 21  entropy             494131 non-null  object \n",
            " 22  Domain_Age          440292 non-null  object \n",
            " 23  tld                 494132 non-null  object \n",
            " 24  dec_8               494125 non-null  object \n",
            " 25  dec_32              494041 non-null  object \n",
            " 26  Emails              323523 non-null  object \n",
            " 27  numeric_percentage  493346 non-null  object \n",
            " 28  puny_coded          494135 non-null  object \n",
            " 29  typos               494135 non-null  object \n",
            " 30  oc_8                494135 non-null  object \n",
            " 31  3gram               494135 non-null  object \n",
            " 32  char_distribution   494135 non-null  object \n",
            " 33  2gram               493948 non-null  object \n",
            " 34  Registrar           354202 non-null  object \n",
            " 35  sld                 492806 non-null  object \n",
            " 36  Name_Server_Count   440252 non-null  object \n",
            " 37  Page_Rank           439789 non-null  float64\n",
            "dtypes: float64(2), int64(1), object(35)\n",
            "memory usage: 143.3+ MB\n"
          ]
        }
      ]
    },
    {
      "cell_type": "code",
      "source": [
        "df_malware.info()"
      ],
      "metadata": {
        "colab": {
          "base_uri": "https://localhost:8080/"
        },
        "id": "GyEaDG9wSrNA",
        "outputId": "2a9e1a8b-24ed-4085-e1a1-5fbd54268af6"
      },
      "execution_count": null,
      "outputs": [
        {
          "output_type": "stream",
          "name": "stdout",
          "text": [
            "<class 'pandas.core.frame.DataFrame'>\n",
            "RangeIndex: 4999 entries, 0 to 4998\n",
            "Data columns (total 38 columns):\n",
            " #   Column              Non-Null Count  Dtype  \n",
            "---  ------              --------------  -----  \n",
            " 0   Country             4053 non-null   object \n",
            " 1   ASN                 4055 non-null   float64\n",
            " 2   TTL                 4999 non-null   object \n",
            " 3   IP                  4098 non-null   object \n",
            " 4   Domain              4999 non-null   object \n",
            " 5   oc_8                4999 non-null   int64  \n",
            " 6   longest_word        4999 non-null   object \n",
            " 7   Domain_Name         3968 non-null   object \n",
            " 8   dec_32              4999 non-null   int64  \n",
            " 9   subdomain           4999 non-null   int64  \n",
            " 10  sld                 4999 non-null   object \n",
            " 11  Registrant_Name     73 non-null     object \n",
            " 12  hex_32              4999 non-null   int64  \n",
            " 13  Domain_Age          4428 non-null   object \n",
            " 14  entropy             4999 non-null   float64\n",
            " 15  Name_Server_Count   4428 non-null   float64\n",
            " 16  Emails              3377 non-null   object \n",
            " 17  Creation_Date_Time  3824 non-null   object \n",
            " 18  Organization        2283 non-null   object \n",
            " 19  char_distribution   4999 non-null   object \n",
            " 20  2gram               4999 non-null   object \n",
            " 21  State               2632 non-null   object \n",
            " 22  oc_32               4999 non-null   int64  \n",
            " 23  Country.1           2890 non-null   object \n",
            " 24  Page_Rank           4428 non-null   float64\n",
            " 25  hex_8               4999 non-null   int64  \n",
            " 26  dec_8               4999 non-null   int64  \n",
            " 27  1gram               4999 non-null   object \n",
            " 28  len                 4999 non-null   int64  \n",
            " 29  typos               4999 non-null   object \n",
            " 30  tld                 4999 non-null   object \n",
            " 31  shortened           4938 non-null   float64\n",
            " 32  Registrar           3693 non-null   object \n",
            " 33  obfuscate_at_sign   4999 non-null   int64  \n",
            " 34  Alexa_Rank          4428 non-null   float64\n",
            " 35  3gram               4999 non-null   object \n",
            " 36  numeric_percentage  4999 non-null   float64\n",
            " 37  puny_coded          4999 non-null   int64  \n",
            "dtypes: float64(7), int64(10), object(21)\n",
            "memory usage: 1.4+ MB\n"
          ]
        }
      ]
    },
    {
      "cell_type": "markdown",
      "source": [
        "Usunięcie:\n",
        "zduplikowanych danych,\n",
        "kolumny 'Registrant_Name', która w większości była wypełniona wartościami NaN\n",
        "oraz usunięcie wierszy z brakującymi wartościami NaN"
      ],
      "metadata": {
        "id": "hekJNI9o9Z96"
      }
    },
    {
      "cell_type": "code",
      "source": [
        "df_malware = df_malware.drop_duplicates()\n",
        "df_benign = df_benign.drop_duplicates()\n",
        "\n",
        "df_malware = df_malware.drop(columns=['Registrant_Name'])\n",
        "df_benign = df_benign.drop(columns=['Registrant_Name'])\n",
        "\n",
        "df_malware.dropna(inplace=True)\n",
        "df_benign.dropna(inplace=True)"
      ],
      "metadata": {
        "id": "AQexnboP9ZIK"
      },
      "execution_count": null,
      "outputs": []
    },
    {
      "cell_type": "code",
      "source": [
        "df_malware.shape"
      ],
      "metadata": {
        "colab": {
          "base_uri": "https://localhost:8080/"
        },
        "id": "s3n6WG8-B0yU",
        "outputId": "e64e50e4-dc12-48b6-dd68-dbbda2f98252"
      },
      "execution_count": null,
      "outputs": [
        {
          "output_type": "execute_result",
          "data": {
            "text/plain": [
              "(1546, 37)"
            ]
          },
          "metadata": {},
          "execution_count": 70
        }
      ]
    },
    {
      "cell_type": "code",
      "source": [
        "df_benign.shape"
      ],
      "metadata": {
        "colab": {
          "base_uri": "https://localhost:8080/"
        },
        "id": "kMXIRtbIB6Wz",
        "outputId": "c476d0e2-d9d2-4174-cb1b-1696535af6d4"
      },
      "execution_count": null,
      "outputs": [
        {
          "output_type": "execute_result",
          "data": {
            "text/plain": [
              "(131107, 37)"
            ]
          },
          "metadata": {},
          "execution_count": 71
        }
      ]
    },
    {
      "cell_type": "markdown",
      "source": [
        "Dodanie odpowiednich labeli dla kategorii - benign label 0, malware label 1"
      ],
      "metadata": {
        "id": "jLVAv8Mr9-cS"
      }
    },
    {
      "cell_type": "code",
      "source": [
        "df_malware[\"Label\"] = 1\n",
        "df_benign [\"Label\"] = 0"
      ],
      "metadata": {
        "id": "ySscg2xqSvca"
      },
      "execution_count": null,
      "outputs": []
    },
    {
      "cell_type": "markdown",
      "source": [
        "ze względu na niezbilansowany rozkład klas, zastosowano funkcję *resample()*, aby zrównowaźyć rozkład kategorii. Połączono te kategorie i przypisano do ramki *data*"
      ],
      "metadata": {
        "id": "Lfw8Ewdw_3Aj"
      }
    },
    {
      "cell_type": "code",
      "source": [
        "df_benign_resampled = resample(df_benign, replace=False, n_samples=2000, random_state=42)\n",
        "df_malware_resampled = resample(df_malware, replace=True, n_samples=2000, random_state=42)\n",
        "data = pd.concat([df_malware_resampled , df_benign_resampled])"
      ],
      "metadata": {
        "id": "x6ORyWxcToB-"
      },
      "execution_count": null,
      "outputs": []
    },
    {
      "cell_type": "markdown",
      "source": [
        "Podział danych na dane treningowe i dane testowe"
      ],
      "metadata": {
        "id": "Xwoo7tlUALAx"
      }
    },
    {
      "cell_type": "code",
      "source": [
        "X = data.drop('Label', axis=1)\n",
        "y = data['Label'].values\n",
        "\n",
        "X_train, X_test, y_train, y_test = train_test_split(X, y, test_size=0.2, random_state=42)"
      ],
      "metadata": {
        "id": "V8c3emH_T89k"
      },
      "execution_count": null,
      "outputs": []
    },
    {
      "cell_type": "markdown",
      "source": [
        "Rozdzielenie i przetwarzanie kategorii numerycznych i kategorycznych. Przygotowanie danych"
      ],
      "metadata": {
        "id": "6-9urWnXAdL9"
      }
    },
    {
      "cell_type": "code",
      "source": [
        "cols_numerical = X_train.select_dtypes(include=['int64', 'float64']).columns\n",
        "cols_categorical = X_train.select_dtypes(include=['object']).columns\n",
        "\n",
        "X_train[cols_categorical] = X_train[cols_categorical].astype(str)\n",
        "X_test[cols_categorical] = X_test[cols_categorical].astype(str)\n",
        "\n",
        "transformer_numerical = Pipeline(steps = [\n",
        "    ('num_trans', StandardScaler())\n",
        "])\n",
        "\n",
        "transformer_categorical = Pipeline(steps = [\n",
        "    ('cat_trans', OneHotEncoder(handle_unknown='ignore'))\n",
        "])\n",
        "\n",
        "preprocessor = ColumnTransformer(transformers = [\n",
        "    ('numerical', transformer_numerical, cols_numerical),\n",
        "    ('categorical', transformer_categorical, cols_categorical)],\n",
        "    remainder='passthrough'\n",
        ")"
      ],
      "metadata": {
        "id": "TJ7A0167T9CG"
      },
      "execution_count": null,
      "outputs": []
    },
    {
      "cell_type": "markdown",
      "source": [
        " Pipeline oraz trening modelu ***regresji logistycznej*** na danych treningowych,  ocena modelu za pomocą miary dokładność (accuracy) na danych testowych, macierzy pomyłek (confusion matrix), ROC-AUC, precyzja (precision), czułość (recall), f1 score"
      ],
      "metadata": {
        "id": "VwKYobvAPnAv"
      }
    },
    {
      "cell_type": "code",
      "source": [
        "pipe_lr = Pipeline(steps = [\n",
        "    ('preprocessor', preprocessor),\n",
        "    ('classifier',  LogisticRegression(max_iter=500 ,random_state=42))\n",
        "    ])\n",
        "\n",
        "pipe_lr.fit(X_train, y_train)\n",
        "accuracy_lr = pipe_lr.score(X_test, y_test)\n",
        "\n",
        "y_pred_lr = (pipe_lr.predict(X_test))\n",
        "print('Accuracy:', accuracy_lr)\n",
        "print('ROC-AUC score', roc_auc_score(y_test, y_pred_lr))\n",
        "print('Precision:', precision_score(y_test, y_pred_lr))\n",
        "print('Recall:', recall_score(y_test, y_pred_lr))\n",
        "print('F1_score:', f1_score(y_test, y_pred_lr))\n",
        "sns.heatmap(confusion_matrix(y_test, y_pred_lr), annot=True, fmt = 'd', xticklabels=['benign', 'malware'], yticklabels=['benign', 'malware'], cbar=False)"
      ],
      "metadata": {
        "colab": {
          "base_uri": "https://localhost:8080/",
          "height": 537
        },
        "id": "1RvsnJ_dJ3gK",
        "outputId": "3483da07-0967-4a1c-bb2b-aad498bef754"
      },
      "execution_count": null,
      "outputs": [
        {
          "output_type": "stream",
          "name": "stdout",
          "text": [
            "Accuracy: 0.9175\n",
            "ROC-AUC score 0.9149050878908699\n",
            "Precision: 0.8903508771929824\n",
            "Recall: 0.9620853080568721\n",
            "F1_score: 0.9248291571753987\n"
          ]
        },
        {
          "output_type": "execute_result",
          "data": {
            "text/plain": [
              "<Axes: >"
            ]
          },
          "metadata": {},
          "execution_count": 76
        },
        {
          "output_type": "display_data",
          "data": {
            "text/plain": [
              "<Figure size 640x480 with 1 Axes>"
            ],
            "image/png": "[encoded data removed]"
          },
          "metadata": {}
        }
      ]
    },
    {
      "cell_type": "markdown",
      "source": [
        " Pipeline oraz trening modelu ***drzewa decyzyjnego*** na danych treningowych,  ocena modelu za pomocą miary dokładność (accuracy) na danych testowych, macierzy pomyłek (confusion matrix), ROC-AUC, precyzja (precision), czułość (recall), f1 score"
      ],
      "metadata": {
        "id": "QhP1jODLRwMO"
      }
    },
    {
      "cell_type": "code",
      "source": [
        "pipe_dt = Pipeline(steps = [\n",
        "                ('preprocessor', preprocessor),\n",
        "               ('classifier',  DecisionTreeClassifier())\n",
        "            ])\n",
        "pipe_dt.fit(X_train, y_train)\n",
        "accuracy_dt = pipe_dt.score(X_test, y_test)\n",
        "\n",
        "y_pred_dt = (pipe_dt.predict(X_test))\n",
        "print('Accuracy:', accuracy_dt)\n",
        "print('ROC-AUC score', roc_auc_score(y_test, y_pred_dt))\n",
        "print('Precision:', precision_score(y_test, y_pred_dt))\n",
        "print('Recall:', recall_score(y_test, y_pred_dt))\n",
        "print('F1_score:', f1_score(y_test, y_pred_dt))\n",
        "sns.heatmap(confusion_matrix(y_test, y_pred_dt), annot=True, fmt = 'd', xticklabels=['benign', 'malware'], yticklabels=['benign', 'malware'], cbar=False)"
      ],
      "metadata": {
        "colab": {
          "base_uri": "https://localhost:8080/",
          "height": 537
        },
        "id": "ap2D2GBhS9qW",
        "outputId": "23a9eb47-5a24-4a7d-e273-63ed396f1393"
      },
      "execution_count": null,
      "outputs": [
        {
          "output_type": "stream",
          "name": "stdout",
          "text": [
            "Accuracy: 0.91125\n",
            "ROC-AUC score 0.9099463376714562\n",
            "Precision: 0.9016018306636155\n",
            "Recall: 0.933649289099526\n",
            "F1_score: 0.9173457508731082\n"
          ]
        },
        {
          "output_type": "execute_result",
          "data": {
            "text/plain": [
              "<Axes: >"
            ]
          },
          "metadata": {},
          "execution_count": 77
        },
        {
          "output_type": "display_data",
          "data": {
            "text/plain": [
              "<Figure size 640x480 with 1 Axes>"
            ],
            "image/png": "[encoded data removed]"
          },
          "metadata": {}
        }
      ]
    },
    {
      "cell_type": "markdown",
      "source": [
        "Pipeline oraz trening modelu oparty na ***lasach losowych*** na danych treningowych,  ocena modelu za pomocą miary dokładność (accuracy) na danych testowych, macierzy pomyłek (confusion matrix), ROC-AUC, precyzja (precision), czułość (recall), f1 score"
      ],
      "metadata": {
        "id": "lzaFiEJUS22N"
      }
    },
    {
      "cell_type": "code",
      "source": [
        "pipe_rf = Pipeline(steps = [\n",
        "                ('preprocessor', preprocessor),\n",
        "               ('classifier', RandomForestClassifier( n_jobs=-1))\n",
        "            ])\n",
        "pipe_rf.fit(X_train, y_train)\n",
        "accuracy_rf = pipe_rf.score(X_test, y_test)\n",
        "\n",
        "y_pred_rf = (pipe_rf.predict(X_test))\n",
        "print('Accuracy',accuracy_rf)\n",
        "print('ROC-AUC score', roc_auc_score(y_test, y_pred_rf))\n",
        "print('Precision:', precision_score(y_test, y_pred_rf))\n",
        "print('Recall:', recall_score(y_test, y_pred_rf))\n",
        "print('F1_score:', f1_score(y_test, y_pred_rf))\n",
        "sns.heatmap(confusion_matrix(y_test, y_pred_rf), annot=True, fmt = 'd', xticklabels=['benign', 'malware'], yticklabels=['benign', 'malware'], cbar=False)"
      ],
      "metadata": {
        "colab": {
          "base_uri": "https://localhost:8080/",
          "height": 537
        },
        "id": "DMwM7xKXS9uA",
        "outputId": "698c0766-f3f7-43d8-8ca9-21fb1d8ad8a7"
      },
      "execution_count": null,
      "outputs": [
        {
          "output_type": "stream",
          "name": "stdout",
          "text": [
            "Accuracy 0.9125\n",
            "ROC-AUC score 0.911131171794679\n",
            "Precision: 0.9018264840182648\n",
            "Recall: 0.9360189573459715\n",
            "F1_score: 0.9186046511627907\n"
          ]
        },
        {
          "output_type": "execute_result",
          "data": {
            "text/plain": [
              "<Axes: >"
            ]
          },
          "metadata": {},
          "execution_count": 78
        },
        {
          "output_type": "display_data",
          "data": {
            "text/plain": [
              "<Figure size 640x480 with 1 Axes>"
            ],
            "image/png": "[encoded data removed]"
          },
          "metadata": {}
        }
      ]
    },
    {
      "cell_type": "markdown",
      "source": [
        " Pipeline oraz trening modelu ***k-najbliższego sąsiada*** na danych treningowych,  ocena modelu za pomocą miary dokładność (accuracy) na danych testowych, macierzy pomyłek (confusion matrix), ROC-AUC, precyzja (precision), czułość (recall), f1 score"
      ],
      "metadata": {
        "id": "lgUFoEduN4ca"
      }
    },
    {
      "cell_type": "code",
      "source": [
        "from sklearn.neighbors import KNeighborsClassifier\n",
        "pipe_knn = Pipeline(steps = [\n",
        "                ('preprocessor', preprocessor),\n",
        "               ('classifier', KNeighborsClassifier(2))\n",
        "            ])\n",
        "pipe_knn.fit(X_train, y_train)\n",
        "accuracy_knn = pipe_knn.score(X_test, y_test)\n",
        "\n",
        "y_pred_knn = (pipe_knn.predict(X_test))\n",
        "print('Accuracy:',accuracy_knn)\n",
        "print('ROC-AUC score', roc_auc_score(y_test, y_pred_knn))\n",
        "print('Precision:', precision_score(y_test, y_pred_knn))\n",
        "print('Recall:', recall_score(y_test, y_pred_knn))\n",
        "print('F1_score:', f1_score(y_test, y_pred_knn))\n",
        "sns.heatmap(confusion_matrix(y_test, y_pred_knn), annot=True, fmt = 'd', xticklabels=['benign', 'malware'], yticklabels=['benign', 'malware'], cbar=False)"
      ],
      "metadata": {
        "colab": {
          "base_uri": "https://localhost:8080/",
          "height": 537
        },
        "id": "3KenH5jBch0V",
        "outputId": "2363130e-cd93-4aef-9d8a-6c1a337651ad"
      },
      "execution_count": null,
      "outputs": [
        {
          "output_type": "stream",
          "name": "stdout",
          "text": [
            "Accuracy: 0.84125\n",
            "ROC-AUC score 0.8397339451841822\n",
            "Precision: 0.8375286041189931\n",
            "Recall: 0.8672985781990521\n",
            "F1_score: 0.8521536670547147\n"
          ]
        },
        {
          "output_type": "execute_result",
          "data": {
            "text/plain": [
              "<Axes: >"
            ]
          },
          "metadata": {},
          "execution_count": 79
        },
        {
          "output_type": "display_data",
          "data": {
            "text/plain": [
              "<Figure size 640x480 with 1 Axes>"
            ],
            "image/png": "[encoded data removed]"
          },
          "metadata": {}
        }
      ]
    },
    {
      "cell_type": "markdown",
      "source": [
        "W celu zwiększenia wydajności modelu, można zastosować walidację krzyżową"
      ],
      "metadata": {
        "id": "dj8scXINfkGE"
      }
    },
    {
      "cell_type": "code",
      "source": [
        "from sklearn.model_selection import cross_val_score, KFold\n",
        "cv = KFold(n_splits=10, shuffle=True, random_state=42)\n",
        "X[cols_categorical] = X[cols_categorical].astype(str)\n",
        "\n",
        "scores = cross_val_score(pipe_knn, X, y, cv=cv, scoring='accuracy')\n",
        "print('Cross-validation results:', scores)\n",
        "print('Mean accuracy:', scores.mean())\n"
      ],
      "metadata": {
        "colab": {
          "base_uri": "https://localhost:8080/"
        },
        "id": "BcyEH5l5FMZd",
        "outputId": "124d73e9-2b20-4f29-f4c1-19c10f26dc60"
      },
      "execution_count": null,
      "outputs": [
        {
          "output_type": "stream",
          "name": "stdout",
          "text": [
            "Cross-validation results: [0.87   0.845  0.85   0.85   0.8475 0.875  0.865  0.8725 0.84   0.865 ]\n",
            "Mean accuracy: 0.858\n"
          ]
        }
      ]
    },
    {
      "cell_type": "markdown",
      "source": [
        "Porównanie modeli"
      ],
      "metadata": {
        "id": "QrDy2dAr-3Fd"
      }
    },
    {
      "cell_type": "code",
      "source": [
        "results= {\n",
        "    'Model': ['LogisticRegression', 'DecisionTreeClassifier', 'RandomForestClassifier', 'KNeighborsClassifier'],\n",
        "    'Accuracy': [accuracy_lr, accuracy_dt, accuracy_rf, accuracy_knn],\n",
        "    'ROC-AUC score': [roc_auc_score(y_test, y_pred_lr), roc_auc_score(y_test, y_pred_dt), roc_auc_score(y_test, y_pred_rf), roc_auc_score(y_test, y_pred_knn)],\n",
        "    'Precision': [precision_score(y_test, y_pred_lr), precision_score(y_test, y_pred_dt), precision_score(y_test, y_pred_rf), precision_score(y_test, y_pred_knn)],\n",
        "    'Recall': [recall_score(y_test, y_pred_lr), recall_score(y_test, y_pred_dt), recall_score(y_test, y_pred_rf), recall_score(y_test, y_pred_knn)],\n",
        "    'F1_score': [f1_score(y_test, y_pred_lr), f1_score(y_test, y_pred_dt), f1_score(y_test, y_pred_rf), f1_score(y_test, y_pred_knn)]\n",
        "}\n",
        "\n",
        "df = pd.DataFrame(results)\n",
        "df"
      ],
      "metadata": {
        "colab": {
          "base_uri": "https://localhost:8080/",
          "height": 175
        },
        "id": "XLGnUCG33oD4",
        "outputId": "c2553aed-04fd-4788-9af6-11f445876bb2"
      },
      "execution_count": null,
      "outputs": [
        {
          "output_type": "execute_result",
          "data": {
            "text/plain": [
              "                    Model  Accuracy  ROC-AUC score  Precision    Recall  \\\n",
              "0      LogisticRegression   0.91750       0.914905   0.890351  0.962085   \n",
              "1  DecisionTreeClassifier   0.91125       0.909946   0.901602  0.933649   \n",
              "2  RandomForestClassifier   0.91250       0.911131   0.901826  0.936019   \n",
              "3    KNeighborsClassifier   0.84125       0.839734   0.837529  0.867299   \n",
              "\n",
              "   F1_score  \n",
              "0  0.924829  \n",
              "1  0.917346  \n",
              "2  0.918605  \n",
              "3  0.852154  "
            ],
            "text/html": [
              "\n",
              "  <div id=\"df-2e7386be-d849-41b8-8559-5b123c44d028\" class=\"colab-df-container\">\n",
              "    <div>\n",
              "<style scoped>\n",
              "    .dataframe tbody tr th:only-of-type {\n",
              "        vertical-align: middle;\n",
              "    }\n",
              "\n",
              "    .dataframe tbody tr th {\n",
              "        vertical-align: top;\n",
              "    }\n",
              "\n",
              "    .dataframe thead th {\n",
              "        text-align: right;\n",
              "    }\n",
              "</style>\n",
              "<table border=\"1\" class=\"dataframe\">\n",
              "  <thead>\n",
              "    <tr style=\"text-align: right;\">\n",
              "      <th></th>\n",
              "      <th>Model</th>\n",
              "      <th>Accuracy</th>\n",
              "      <th>ROC-AUC score</th>\n",
              "      <th>Precision</th>\n",
              "      <th>Recall</th>\n",
              "      <th>F1_score</th>\n",
              "    </tr>\n",
              "  </thead>\n",
              "  <tbody>\n",
              "    <tr>\n",
              "      <th>0</th>\n",
              "      <td>LogisticRegression</td>\n",
              "      <td>0.91750</td>\n",
              "      <td>0.914905</td>\n",
              "      <td>0.890351</td>\n",
              "      <td>0.962085</td>\n",
              "      <td>0.924829</td>\n",
              "    </tr>\n",
              "    <tr>\n",
              "      <th>1</th>\n",
              "      <td>DecisionTreeClassifier</td>\n",
              "      <td>0.91125</td>\n",
              "      <td>0.909946</td>\n",
              "      <td>0.901602</td>\n",
              "      <td>0.933649</td>\n",
              "      <td>0.917346</td>\n",
              "    </tr>\n",
              "    <tr>\n",
              "      <th>2</th>\n",
              "      <td>RandomForestClassifier</td>\n",
              "      <td>0.91250</td>\n",
              "      <td>0.911131</td>\n",
              "      <td>0.901826</td>\n",
              "      <td>0.936019</td>\n",
              "      <td>0.918605</td>\n",
              "    </tr>\n",
              "    <tr>\n",
              "      <th>3</th>\n",
              "      <td>KNeighborsClassifier</td>\n",
              "      <td>0.84125</td>\n",
              "      <td>0.839734</td>\n",
              "      <td>0.837529</td>\n",
              "      <td>0.867299</td>\n",
              "      <td>0.852154</td>\n",
              "    </tr>\n",
              "  </tbody>\n",
              "</table>\n",
              "</div>\n",
              "    <div class=\"colab-df-buttons\">\n",
              "\n",
              "  <div class=\"colab-df-container\">\n",
              "    <button class=\"colab-df-convert\" onclick=\"convertToInteractive('df-2e7386be-d849-41b8-8559-5b123c44d028')\"\n",
              "            title=\"Convert this dataframe to an interactive table.\"\n",
              "            style=\"display:none;\">\n",
              "\n",
              "  <svg xmlns=\"http://www.w3.org/2000/svg\" height=\"24px\" viewBox=\"0 -960 960 960\">\n",
              "    <path d=\"M120-120v-720h720v720H120Zm60-500h600v-160H180v160Zm220 220h160v-160H400v160Zm0 220h160v-160H400v160ZM180-400h160v-160H180v160Zm440 0h160v-160H620v160ZM180-180h160v-160H180v160Zm440 0h160v-160H620v160Z\"/>\n",
              "  </svg>\n",
              "    </button>\n",
              "\n",
              "  <style>\n",
              "    .colab-df-container {\n",
              "      display:flex;\n",
              "      gap: 12px;\n",
              "    }\n",
              "\n",
              "    .colab-df-convert {\n",
              "      background-color: #E8F0FE;\n",
              "      border: none;\n",
              "      border-radius: 50%;\n",
              "      cursor: pointer;\n",
              "      display: none;\n",
              "      fill: #1967D2;\n",
              "      height: 32px;\n",
              "      padding: 0 0 0 0;\n",
              "      width: 32px;\n",
              "    }\n",
              "\n",
              "    .colab-df-convert:hover {\n",
              "      background-color: #E2EBFA;\n",
              "      box-shadow: 0px 1px 2px rgba(60, 64, 67, 0.3), 0px 1px 3px 1px rgba(60, 64, 67, 0.15);\n",
              "      fill: #174EA6;\n",
              "    }\n",
              "\n",
              "    .colab-df-buttons div {\n",
              "      margin-bottom: 4px;\n",
              "    }\n",
              "\n",
              "    [theme=dark] .colab-df-convert {\n",
              "      background-color: #3B4455;\n",
              "      fill: #D2E3FC;\n",
              "    }\n",
              "\n",
              "    [theme=dark] .colab-df-convert:hover {\n",
              "      background-color: #434B5C;\n",
              "      box-shadow: 0px 1px 3px 1px rgba(0, 0, 0, 0.15);\n",
              "      filter: drop-shadow(0px 1px 2px rgba(0, 0, 0, 0.3));\n",
              "      fill: #FFFFFF;\n",
              "    }\n",
              "  </style>\n",
              "\n",
              "    <script>\n",
              "      const buttonEl =\n",
              "        document.querySelector('#df-2e7386be-d849-41b8-8559-5b123c44d028 button.colab-df-convert');\n",
              "      buttonEl.style.display =\n",
              "        google.colab.kernel.accessAllowed ? 'block' : 'none';\n",
              "\n",
              "      async function convertToInteractive(key) {\n",
              "        const element = document.querySelector('#df-2e7386be-d849-41b8-8559-5b123c44d028');\n",
              "        const dataTable =\n",
              "          await google.colab.kernel.invokeFunction('convertToInteractive',\n",
              "                                                    [key], {});\n",
              "        if (!dataTable) return;\n",
              "\n",
              "        const docLinkHtml = 'Like what you see? Visit the ' +\n",
              "          '<a target=\"_blank\" href=https://colab.research.google.com/notebooks/data_table.ipynb>data table notebook</a>'\n",
              "          + ' to learn more about interactive tables.';\n",
              "        element.innerHTML = '';\n",
              "        dataTable['output_type'] = 'display_data';\n",
              "        await google.colab.output.renderOutput(dataTable, element);\n",
              "        const docLink = document.createElement('div');\n",
              "        docLink.innerHTML = docLinkHtml;\n",
              "        element.appendChild(docLink);\n",
              "      }\n",
              "    </script>\n",
              "  </div>\n",
              "\n",
              "\n",
              "<div id=\"df-b31ef4c3-6176-402d-88e7-1d4505e8cb96\">\n",
              "  <button class=\"colab-df-quickchart\" onclick=\"quickchart('df-b31ef4c3-6176-402d-88e7-1d4505e8cb96')\"\n",
              "            title=\"Suggest charts.\"\n",
              "            style=\"display:none;\">\n",
              "\n",
              "<svg xmlns=\"http://www.w3.org/2000/svg\" height=\"24px\"viewBox=\"0 0 24 24\"\n",
              "     width=\"24px\">\n",
              "    <g>\n",
              "        <path d=\"M19 3H5c-1.1 0-2 .9-2 2v14c0 1.1.9 2 2 2h14c1.1 0 2-.9 2-2V5c0-1.1-.9-2-2-2zM9 17H7v-7h2v7zm4 0h-2V7h2v10zm4 0h-2v-4h2v4z\"/>\n",
              "    </g>\n",
              "</svg>\n",
              "  </button>\n",
              "\n",
              "<style>\n",
              "  .colab-df-quickchart {\n",
              "      --bg-color: #E8F0FE;\n",
              "      --fill-color: #1967D2;\n",
              "      --hover-bg-color: #E2EBFA;\n",
              "      --hover-fill-color: #174EA6;\n",
              "      --disabled-fill-color: #AAA;\n",
              "      --disabled-bg-color: #DDD;\n",
              "  }\n",
              "\n",
              "  [theme=dark] .colab-df-quickchart {\n",
              "      --bg-color: #3B4455;\n",
              "      --fill-color: #D2E3FC;\n",
              "      --hover-bg-color: #434B5C;\n",
              "      --hover-fill-color: #FFFFFF;\n",
              "      --disabled-bg-color: #3B4455;\n",
              "      --disabled-fill-color: #666;\n",
              "  }\n",
              "\n",
              "  .colab-df-quickchart {\n",
              "    background-color: var(--bg-color);\n",
              "    border: none;\n",
              "    border-radius: 50%;\n",
              "    cursor: pointer;\n",
              "    display: none;\n",
              "    fill: var(--fill-color);\n",
              "    height: 32px;\n",
              "    padding: 0;\n",
              "    width: 32px;\n",
              "  }\n",
              "\n",
              "  .colab-df-quickchart:hover {\n",
              "    background-color: var(--hover-bg-color);\n",
              "    box-shadow: 0 1px 2px rgba(60, 64, 67, 0.3), 0 1px 3px 1px rgba(60, 64, 67, 0.15);\n",
              "    fill: var(--button-hover-fill-color);\n",
              "  }\n",
              "\n",
              "  .colab-df-quickchart-complete:disabled,\n",
              "  .colab-df-quickchart-complete:disabled:hover {\n",
              "    background-color: var(--disabled-bg-color);\n",
              "    fill: var(--disabled-fill-color);\n",
              "    box-shadow: none;\n",
              "  }\n",
              "\n",
              "  .colab-df-spinner {\n",
              "    border: 2px solid var(--fill-color);\n",
              "    border-color: transparent;\n",
              "    border-bottom-color: var(--fill-color);\n",
              "    animation:\n",
              "      spin 1s steps(1) infinite;\n",
              "  }\n",
              "\n",
              "  @keyframes spin {\n",
              "    0% {\n",
              "      border-color: transparent;\n",
              "      border-bottom-color: var(--fill-color);\n",
              "      border-left-color: var(--fill-color);\n",
              "    }\n",
              "    20% {\n",
              "      border-color: transparent;\n",
              "      border-left-color: var(--fill-color);\n",
              "      border-top-color: var(--fill-color);\n",
              "    }\n",
              "    30% {\n",
              "      border-color: transparent;\n",
              "      border-left-color: var(--fill-color);\n",
              "      border-top-color: var(--fill-color);\n",
              "      border-right-color: var(--fill-color);\n",
              "    }\n",
              "    40% {\n",
              "      border-color: transparent;\n",
              "      border-right-color: var(--fill-color);\n",
              "      border-top-color: var(--fill-color);\n",
              "    }\n",
              "    60% {\n",
              "      border-color: transparent;\n",
              "      border-right-color: var(--fill-color);\n",
              "    }\n",
              "    80% {\n",
              "      border-color: transparent;\n",
              "      border-right-color: var(--fill-color);\n",
              "      border-bottom-color: var(--fill-color);\n",
              "    }\n",
              "    90% {\n",
              "      border-color: transparent;\n",
              "      border-bottom-color: var(--fill-color);\n",
              "    }\n",
              "  }\n",
              "</style>\n",
              "\n",
              "  <script>\n",
              "    async function quickchart(key) {\n",
              "      const quickchartButtonEl =\n",
              "        document.querySelector('#' + key + ' button');\n",
              "      quickchartButtonEl.disabled = true;  // To prevent multiple clicks.\n",
              "      quickchartButtonEl.classList.add('colab-df-spinner');\n",
              "      try {\n",
              "        const charts = await google.colab.kernel.invokeFunction(\n",
              "            'suggestCharts', [key], {});\n",
              "      } catch (error) {\n",
              "        console.error('Error during call to suggestCharts:', error);\n",
              "      }\n",
              "      quickchartButtonEl.classList.remove('colab-df-spinner');\n",
              "      quickchartButtonEl.classList.add('colab-df-quickchart-complete');\n",
              "    }\n",
              "    (() => {\n",
              "      let quickchartButtonEl =\n",
              "        document.querySelector('#df-b31ef4c3-6176-402d-88e7-1d4505e8cb96 button');\n",
              "      quickchartButtonEl.style.display =\n",
              "        google.colab.kernel.accessAllowed ? 'block' : 'none';\n",
              "    })();\n",
              "  </script>\n",
              "</div>\n",
              "    </div>\n",
              "  </div>\n"
            ]
          },
          "metadata": {},
          "execution_count": 84
        }
      ]
    },
    {
      "cell_type": "markdown",
      "source": [
        "Model regresji logicznej (LogisticRegression) osiągnął bardzo wysoką dokładność (accuracy) na poziomie 91.75%. ROC-AUC score wskazuje na dobrą zdolność modelu do rozróżniania klas, z wynikiem 0.91. Precision wyniosła 0.89 (model jest skłonny do wydawania pozytywnych predykcji w sposób ostrożny), a czułość (recall) wynosła 0.96, co oznacza, że model ma wysoką zdolność do wykrywania pozytywnych przypadków. F1-score, które uwzględnia precyzję i czułość, wynosi 0.92. Model drzewa decyzyjnego (DecisionTreeClassifier) i lasu losowego (RandomForestClassifier) uzyskały zbliżoną wydajność do modelu regresji logicznej. Najgorzej poradził sobie model k-najbliższych sąsiadów (KNeighborsClassifier), który uzyskał dokładność równą 84.12%."
      ],
      "metadata": {
        "id": "QHAegqI9Kud0"
      }
    },
    {
      "cell_type": "markdown",
      "source": [
        "---"
      ],
      "metadata": {
        "id": "vppyhyR_M2eK"
      }
    },
    {
      "cell_type": "markdown",
      "source": [
        "Modele zostały wytrenowane na danych treningowych i przetestowane na danych testowych. Do oceny klasyfikatorów przedstawiono macierz pomyłek, miarę ROC-AUC, precyzję, czułość oraz f1 score. W celu poprawy wydajności zaproponowano zastosowanie walidacji krzyżowej. Dla nowych danych produkcyjnych, które nie były dostępne podczas treningu ani ewaluacji, można zachować zestaw testowy, w celu oceny modelu na nowych danych oraz monitorowanie jego wydajności i miar statystycznych"
      ],
      "metadata": {
        "id": "Yw5LNX5OH8fs"
      }
    }
  ]
}